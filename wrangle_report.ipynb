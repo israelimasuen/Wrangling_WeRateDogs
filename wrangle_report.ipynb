{
 "cells": [
  {
   "cell_type": "markdown",
   "metadata": {},
   "source": [
    "## Reporting: wragle_report\n"
   ]
  },
  {
   "cell_type": "markdown",
   "metadata": {},
   "source": [
    "The project's dataset is the collection of tweets from Twitter user @dog rates, commonly known as WeRateDogs. WeRateDogs is a Twitter account that assesses people's pets and comments on them.\n",
    "The following were the objectives of the WeRateDogs Twitter project:\n",
    " <ul><li>Get and Organize Twitter data programmable</li>\n",
    " <li>Data storing, cleansing, and analysing</li>\n",
    " <li>Visual displaying and data insights"
   ]
  },
  {
   "cell_type": "markdown",
   "metadata": {},
   "source": [
    "### Data Gathering"
   ]
  },
  {
   "cell_type": "markdown",
   "metadata": {},
   "source": [
    "Data was gathered from multiple sources for the WeRateDogs Twitter project, including The Twitter archive enhanced.csv, The WeRateDogs Twitter archive, and The tweet image predictions.\n",
    "<ul><li>Based on the time period examined, this twitter archive comprises basic tweet data (tweet ID, name, source, timestamp, content, and so on) for all of their tweets.\n",
    "<li>To obtain the retweet and favourite (\"like\") counts for each tweet, as well as any other data, the Twitter API and Python's Tweepy package were deployed.\n",
    "<li>In the tweet image predictions, data such as the kind of breed of dog (German_shepherd, French_bulldog, etc.) were present in each tweet."
   ]
  },
  {
   "cell_type": "markdown",
   "metadata": {},
   "source": [
    "### Assessing Data"
   ]
  },
  {
   "cell_type": "markdown",
   "metadata": {},
   "source": [
    "After gathering the data, the next stage is to access and evaluate it for both quality and tidiness concerns. Based on the nature of the data, there are tones of data wrangling activities that can be performed, however, a handful was selected for the purpose of the study. Below are quality and tidiness issues identified.\n",
    "\n",
    "#### Quality Issues\n",
    "1. Removing all rows that have values in retweeted_status_id, retweeted_status_user_id, and retweeted_status_timestamp\n",
    "\n",
    "1. Some columns are not relevant, especially columns with higher null values\n",
    "\n",
    "2. Eliminating values without images from data to analyze \n",
    "\n",
    "3. The name column has 'None' has a name\n",
    "\n",
    "4. The name has a, an, the, etc. (Observed names that start with the lower case are not the real name)\n",
    "\n",
    "5. Missing values in expanded_urls\n",
    "\n",
    "6. p1_dog', 'p2_dog', 'p3_dog' having some value set at false. It indicate the false values are not dog \n",
    "\n",
    "7. HTML syntax among the  content of sources rows.\n",
    "\n",
    "8. tweet_id is having an object data type insteadof int\n",
    "\n",
    "\n",
    "#### Tidiness issues\n",
    "1. Extract values and combined  doggo, flooder, pepper, and puppy to a single column form their various columns\n",
    "\n",
    "2. concate the three dataset and drop duplicate column if any."
   ]
  },
  {
   "cell_type": "markdown",
   "metadata": {},
   "source": [
    "### Data Cleansing"
   ]
  },
  {
   "cell_type": "markdown",
   "metadata": {},
   "source": [
    "Following the assessment, the data were processed using the following steps: Define, Code, and Test for all issues identified\n",
    "\n",
    "#### Define: \n",
    ">The issues identified were picked one at a time for cleaning\n",
    "\n",
    "#### Code:\n",
    ">This section handles the appropriate code needed to cleanse the data\n",
    "\n",
    "#### Test:\n",
    ">The data were tested to ensure all the issue been worked on has been resolved"
   ]
  },
  {
   "cell_type": "markdown",
   "metadata": {},
   "source": [
    "### Visualization and Insight"
   ]
  },
  {
   "cell_type": "markdown",
   "metadata": {},
   "source": [
    "After data has been cleansed, three insights and visualization were also produced based on the analyse from the data."
   ]
  },
  {
   "cell_type": "code",
   "execution_count": null,
   "metadata": {},
   "outputs": [],
   "source": []
  }
 ],
 "metadata": {
  "kernelspec": {
   "display_name": "Python 3",
   "language": "python",
   "name": "python3"
  },
  "language_info": {
   "codemirror_mode": {
    "name": "ipython",
    "version": 3
   },
   "file_extension": ".py",
   "mimetype": "text/x-python",
   "name": "python",
   "nbconvert_exporter": "python",
   "pygments_lexer": "ipython3",
   "version": "3.6.3"
  }
 },
 "nbformat": 4,
 "nbformat_minor": 2
}
